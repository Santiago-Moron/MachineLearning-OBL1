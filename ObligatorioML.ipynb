{
  "cells": [
    {
      "cell_type": "code",
      "execution_count": 8,
      "metadata": {
        "id": "8uiuNIbDf3p6"
      },
      "outputs": [],
      "source": [
        "import os\n",
        "import numpy as np\n",
        "import matplotlib.pyplot as plt\n",
        "\n",
        "from skimage import data, color, feature\n",
        "from skimage.transform import rescale, resize, rotate, integral_image\n",
        "from skimage.feature import haar_like_feature, haar_like_feature_coord, draw_haar_like_feature\n",
        "from skimage.exposure import equalize_hist\n",
        "from skimage.data import lfw_subset\n",
        "\n",
        "from itertools import chain\n",
        "from tqdm import tqdm\n",
        "from random import sample\n",
        "from time import time\n",
        "\n",
        "from sklearn.feature_extraction.image import PatchExtractor\n",
        "from sklearn.datasets import fetch_lfw_people\n",
        "from sklearn.linear_model import LogisticRegression\n",
        "from sklearn.model_selection import cross_val_score, train_test_split, learning_curve\n",
        "from sklearn.metrics import classification_report, roc_curve, roc_auc_score\n",
        "from sklearn.ensemble import RandomForestClassifier\n",
        "from sklearn.ensemble import AdaBoostClassifier\n",
        "from sklearn.metrics import accuracy_score\n",
        "from sklearn.tree import DecisionTreeClassifier\n",
        "from sklearn.metrics import confusion_matrix\n",
        "from sklearn.metrics import recall_score\n",
        "from sklearn.ensemble import BaggingClassifier\n",
        "import pickle\n",
        "from joblib import Parallel, delayed\n",
        "from tqdm import tqdm"
      ]
    },
    {
      "cell_type": "code",
      "execution_count": 9,
      "metadata": {
        "id": "I-aUsgFUhaDr"
      },
      "outputs": [
        {
          "name": "stderr",
          "output_type": "stream",
          "text": [
            "Procesando imágenes: 100%|██████████| 10/10 [00:03<00:00,  2.89it/s]\n",
            "Construyendo X: 25733it [00:21, 1223.68it/s]\n"
          ]
        }
      ],
      "source": [
        "\n",
        "lfw_people = fetch_lfw_people()\n",
        "originalImages = lfw_people.images\n",
        "labels = lfw_people.target\n",
        "\n",
        "new_resolution = (64, 64)  \n",
        "#positive_patches = [resize(img, new_resolution, mode='reflect', anti_aliasing=True) for img in originalImages]\n",
        "positive_patches = lfw_people.images\n",
        "size = positive_patches[0].shape\n",
        "\n",
        "imgs = ['camera',\n",
        "        'text',\n",
        "        'coins',\n",
        "        'moon',\n",
        "        'page',\n",
        "        'clock',\n",
        "        'immunohistochemistry',\n",
        "        'chelsea',\n",
        "        'coffee',\n",
        "        'hubble_deep_field'\n",
        "        ]\n",
        "\n",
        "images = []\n",
        "for name in imgs:\n",
        "    img = getattr(data, name)()\n",
        "    if len(img.shape) == 3 and img.shape[2] == 3:  # Chequeamos si la imagen es RGB\n",
        "        img = color.rgb2gray(img)\n",
        "    images.append(img)\n",
        "\n",
        "    \n",
        "# Función para extraer porciones de una imagen\n",
        "def extract_patches(img, N, scale=1.0, patch_size=size):\n",
        "    # Calcula el tamaño del parche extraído basado en el factor de escala dado\n",
        "    extracted_patch_size = tuple((scale * np.array(patch_size)).astype(int))\n",
        "    \n",
        "    # Inicializa un objeto PatchExtractor con el tamaño de parche calculado,\n",
        "    # el número máximo de parches, y una semilla de estado aleatorio\n",
        "    extractor = PatchExtractor(patch_size=extracted_patch_size, max_patches=N, random_state=0)\n",
        "    \n",
        "    # Extrae parches de la imagen dada\n",
        "    # img[np.newaxis] se utiliza la entrada de PatchExtractor es un conjunto de imágenes\n",
        "    patches = extractor.transform(img[np.newaxis])\n",
        "    \n",
        "    # Si el factor de escala no es 1, redimensiona cada parche extraído\n",
        "    # al tamaño del parche original\n",
        "    if scale != 1:\n",
        "        patches = np.array([resize(patch, patch_size) for patch in patches])\n",
        "    \n",
        "    # Devuelve la lista de parches extraídos (y posiblemente redimensionados)\n",
        "    return patches\n",
        "\n",
        "# Extraemos las imágenes de fondo\n",
        "negative_patches = np.vstack([extract_patches(im, 250, scale) for im in tqdm(images, desc='Procesando imágenes') for scale in [0.5, 0.75, 1.0, 1.5, 2.0]])\n",
        "negative_patches.shape\n",
        "\n",
        "X_train = np.array([feature.hog(im) for im in tqdm(chain(positive_patches, negative_patches), desc='Construyendo X')])\n",
        "y_train = np.zeros(X_train.shape[0])\n",
        "y_train[:positive_patches.shape[0]] = 1\n",
        "\n",
        "\n"
      ]
    },
    {
      "cell_type": "code",
      "execution_count": 5,
      "metadata": {},
      "outputs": [
        {
          "name": "stdout",
          "output_type": "stream",
          "text": [
            "Accuracy: 0.98\n",
            "Recall: 0.96\n",
            "True Negative Rate (TNR): 1.0\n"
          ]
        }
      ],
      "source": [
        "# AdaBoost clasifier\n",
        "\n",
        "# Bad clasifier\n",
        "weak_classifier = DecisionTreeClassifier(max_depth=1)\n",
        "# Good clasifier based in the bad one (for better results, increase the number of estimators)\n",
        "adaboost_classifier = AdaBoostClassifier(estimator=weak_classifier, n_estimators=5, random_state=0)\n",
        "\n",
        "adaboost_classifier.fit(X_train, y_train)\n",
        "\n",
        "predictions = adaboost_classifier.predict(X_test)\n",
        "\n",
        "accuracy = accuracy_score(y_test, predictions)\n",
        "print(f'Accuracy: {accuracy}')\n",
        "\n",
        "recall = recall_score(y_test, predictions)\n",
        "print(f'Recall: {recall}')\n",
        "\n",
        "# Focus on TNR (predict non-faces correctly)\n",
        "y_pred = adaboost_classifier.predict(X_test)\n",
        "y_true = y_test\n",
        "\n",
        "conf_matrix = confusion_matrix(y_true, y_pred)\n",
        "tn = conf_matrix[0, 0]\n",
        "fp = conf_matrix[0, 1]\n",
        "tnr = tn / (tn + fp)\n",
        "print(f'True Negative Rate (TNR): {tnr}')"
      ]
    },
    {
      "cell_type": "code",
      "execution_count": 6,
      "metadata": {},
      "outputs": [
        {
          "name": "stdout",
          "output_type": "stream",
          "text": [
            "Accuracy: 0.98\n",
            "Recall: 1.0\n",
            "True Negative Rate (TNR): 0.96\n"
          ]
        }
      ],
      "source": [
        "# Base clasifier for Bagging model\n",
        "base_classifier = DecisionTreeClassifier(max_depth=2)\n",
        "\n",
        "# Added adaboost as a bagging base classifier\n",
        "bagging_classifier = BaggingClassifier(base_classifier, n_estimators=5, random_state=0)\n",
        "\n",
        "bagging_classifier.fit(X_train, y_train)\n",
        "\n",
        "y_pred = bagging_classifier.predict(X_test)\n",
        "y_true = y_test\n",
        "\n",
        "accuracy = accuracy_score(y_test, y_pred)\n",
        "print(f'Accuracy: {accuracy}')\n",
        "\n",
        "conf_matrix = confusion_matrix(y_true, y_pred)\n",
        "tn = conf_matrix[0, 0]\n",
        "fp = conf_matrix[0, 1]\n",
        "tnr = tn / (tn + fp)\n",
        "\n",
        "recall = recall_score(y_true, y_pred)\n",
        "\n",
        "print(f'Recall: {recall}')\n",
        "print(f'True Negative Rate (TNR): {tnr}')"
      ]
    },
    {
      "cell_type": "code",
      "execution_count": 9,
      "metadata": {
        "id": "wR5ow9MMtUdK"
      },
      "outputs": [],
      "source": [
        "# Train a random forest classifier and assess its performance\n",
        "clf = RandomForestClassifier(n_estimators=1000, max_depth=None,\n",
        "                             max_features=100, n_jobs=-1, random_state=0)\n",
        "t_start = time()\n",
        "clf.fit(X_train, y_train)\n",
        "time_full_train = time() - t_start\n",
        "auc_full_features = roc_auc_score(y_test, clf.predict_proba(X_test)[:, 1])\n",
        "\n"
      ]
    },
    {
      "cell_type": "code",
      "execution_count": null,
      "metadata": {
        "colab": {
          "base_uri": "https://localhost:8080/",
          "height": 910
        },
        "id": "qWK080NEFM_b",
        "outputId": "53f0dfe2-8b70-492d-b903-210f44af62e8"
      },
      "outputs": [
        {
          "name": "stderr",
          "output_type": "stream",
          "text": [
            "c:\\Users\\naist\\AppData\\Local\\Programs\\Python\\Python311\\Lib\\site-packages\\sklearn\\linear_model\\_logistic.py:460: ConvergenceWarning: lbfgs failed to converge (status=1):\n",
            "STOP: TOTAL NO. of ITERATIONS REACHED LIMIT.\n",
            "\n",
            "Increase the number of iterations (max_iter) or scale the data as shown in:\n",
            "    https://scikit-learn.org/stable/modules/preprocessing.html\n",
            "Please also refer to the documentation for alternative solver options:\n",
            "    https://scikit-learn.org/stable/modules/linear_model.html#logistic-regression\n",
            "  n_iter_i = _check_optimize_result(\n",
            "c:\\Users\\naist\\AppData\\Local\\Programs\\Python\\Python311\\Lib\\site-packages\\sklearn\\linear_model\\_logistic.py:460: ConvergenceWarning: lbfgs failed to converge (status=1):\n",
            "STOP: TOTAL NO. of ITERATIONS REACHED LIMIT.\n",
            "\n",
            "Increase the number of iterations (max_iter) or scale the data as shown in:\n",
            "    https://scikit-learn.org/stable/modules/preprocessing.html\n",
            "Please also refer to the documentation for alternative solver options:\n",
            "    https://scikit-learn.org/stable/modules/linear_model.html#logistic-regression\n",
            "  n_iter_i = _check_optimize_result(\n",
            "c:\\Users\\naist\\AppData\\Local\\Programs\\Python\\Python311\\Lib\\site-packages\\sklearn\\linear_model\\_logistic.py:460: ConvergenceWarning: lbfgs failed to converge (status=1):\n",
            "STOP: TOTAL NO. of ITERATIONS REACHED LIMIT.\n",
            "\n",
            "Increase the number of iterations (max_iter) or scale the data as shown in:\n",
            "    https://scikit-learn.org/stable/modules/preprocessing.html\n",
            "Please also refer to the documentation for alternative solver options:\n",
            "    https://scikit-learn.org/stable/modules/linear_model.html#logistic-regression\n",
            "  n_iter_i = _check_optimize_result(\n",
            "c:\\Users\\naist\\AppData\\Local\\Programs\\Python\\Python311\\Lib\\site-packages\\sklearn\\linear_model\\_logistic.py:460: ConvergenceWarning: lbfgs failed to converge (status=1):\n",
            "STOP: TOTAL NO. of ITERATIONS REACHED LIMIT.\n",
            "\n",
            "Increase the number of iterations (max_iter) or scale the data as shown in:\n",
            "    https://scikit-learn.org/stable/modules/preprocessing.html\n",
            "Please also refer to the documentation for alternative solver options:\n",
            "    https://scikit-learn.org/stable/modules/linear_model.html#logistic-regression\n",
            "  n_iter_i = _check_optimize_result(\n",
            "c:\\Users\\naist\\AppData\\Local\\Programs\\Python\\Python311\\Lib\\site-packages\\sklearn\\linear_model\\_logistic.py:460: ConvergenceWarning: lbfgs failed to converge (status=1):\n",
            "STOP: TOTAL NO. of ITERATIONS REACHED LIMIT.\n",
            "\n",
            "Increase the number of iterations (max_iter) or scale the data as shown in:\n",
            "    https://scikit-learn.org/stable/modules/preprocessing.html\n",
            "Please also refer to the documentation for alternative solver options:\n",
            "    https://scikit-learn.org/stable/modules/linear_model.html#logistic-regression\n",
            "  n_iter_i = _check_optimize_result(\n"
          ]
        },
        {
          "data": {
            "image/png": "[encoded data removed]",
            "text/plain": [
              "<Figure size 640x480 with 1 Axes>"
            ]
          },
          "metadata": {},
          "output_type": "display_data"
        }
      ],
      "source": [
        "#TARDA 10 MINUTOS (Hacete un tecito)\n",
        "\n",
        "clf = LogisticRegression(max_iter=500)\n",
        "train_sizes, train_scores, test_scores = learning_curve(clf, X_train, y_train, cv=5)\n",
        "\n",
        "plt.figure()\n",
        "plt.plot(train_sizes, train_scores.mean(axis=1), 'o-', label=\"Training score\")\n",
        "plt.plot(train_sizes, test_scores.mean(axis=1), 'o-', label=\"Cross-validation score\")\n",
        "plt.xlabel(\"Training examples\")\n",
        "plt.ylabel(\"Score\")\n",
        "plt.title(\"Learning Curve\")\n",
        "plt.legend(loc=\"best\")\n",
        "plt.show()"
      ]
    },
    {
      "cell_type": "code",
      "execution_count": null,
      "metadata": {
        "colab": {
          "base_uri": "https://localhost:8080/",
          "height": 454
        },
        "id": "8OMpW6Y6347t",
        "outputId": "db53a7bb-c925-4777-e6a9-e4beafb08288"
      },
      "outputs": [
        {
          "data": {
            "image/png": "[encoded data removed]",
            "text/plain": [
              "<Figure size 640x480 with 6 Axes>"
            ]
          },
          "metadata": {},
          "output_type": "display_data"
        }
      ],
      "source": [
        "# Sort features in order of importance and plot the six most significant\n",
        "idx_sorted = np.argsort(clf.feature_importances_)[::-1]\n",
        "\n",
        "fig, axes = plt.subplots(3, 2)\n",
        "for idx, ax in enumerate(axes.ravel()):\n",
        "    image = images[0]\n",
        "    image = draw_haar_like_feature(image, 0, 0,\n",
        "                                   images.shape[2],\n",
        "                                   images.shape[1],\n",
        "                                   [feature_coord[idx_sorted[idx]]])\n",
        "    ax.imshow(image)\n",
        "    ax.set_xticks([])\n",
        "    ax.set_yticks([])\n",
        "    _ = fig.suptitle('The most important features')\n",
        "\n",
        "\n"
      ]
    }
  ],
  "metadata": {
    "colab": {
      "provenance": []
    },
    "kernelspec": {
      "display_name": "Python 3",
      "name": "python3"
    },
    "language_info": {
      "codemirror_mode": {
        "name": "ipython",
        "version": 3
      },
      "file_extension": ".py",
      "mimetype": "text/x-python",
      "name": "python",
      "nbconvert_exporter": "python",
      "pygments_lexer": "ipython3",
      "version": "3.9.12"
    }
  },
  "nbformat": 4,
  "nbformat_minor": 0
}
