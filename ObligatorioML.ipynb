{
  "cells": [
    {
      "cell_type": "code",
      "execution_count": 3,
      "metadata": {
        "id": "8uiuNIbDf3p6"
      },
      "outputs": [],
      "source": [
        "import os\n",
        "import numpy as np\n",
        "import matplotlib.pyplot as plt\n",
        "\n",
        "from skimage import data, color, feature\n",
        "from skimage.transform import rescale, resize, rotate, integral_image\n",
        "from skimage.feature import haar_like_feature, haar_like_feature_coord, draw_haar_like_feature\n",
        "from skimage.exposure import equalize_hist\n",
        "from skimage.data import lfw_subset\n",
        "\n",
        "from itertools import chain\n",
        "from tqdm import tqdm\n",
        "from random import sample\n",
        "from time import time\n",
        "\n",
        "from sklearn.feature_extraction.image import PatchExtractor\n",
        "from sklearn.datasets import fetch_lfw_people\n",
        "from sklearn.linear_model import LogisticRegression\n",
        "from sklearn.model_selection import cross_val_score, train_test_split, learning_curve\n",
        "from sklearn.metrics import classification_report, roc_curve, roc_auc_score\n",
        "from sklearn.ensemble import RandomForestClassifier\n",
        "from sklearn.ensemble import AdaBoostClassifier\n",
        "from sklearn.metrics import accuracy_score\n",
        "from sklearn.tree import DecisionTreeClassifier\n",
        "from sklearn.metrics import confusion_matrix\n",
        "from sklearn.metrics import recall_score\n",
        "from sklearn.ensemble import GradientBoostingClassifier\n",
        "from sklearn.ensemble import BaggingClassifier\n",
        "import pickle\n",
        "from joblib import Parallel, delayed\n",
        "from tqdm import tqdm"
      ]
    },
    {
      "cell_type": "markdown",
      "metadata": {},
      "source": [
        "## Preprocesamiento"
      ]
    },
    {
      "cell_type": "code",
      "execution_count": 4,
      "metadata": {
        "id": "I-aUsgFUhaDr"
      },
      "outputs": [
        {
          "name": "stderr",
          "output_type": "stream",
          "text": [
            "Procesando imágenes: 100%|██████████| 10/10 [00:02<00:00,  4.03it/s]\n",
            "Construyendo X: 25733it [00:17, 1440.46it/s]\n"
          ]
        }
      ],
      "source": [
        "\n",
        "lfw_people = fetch_lfw_people()\n",
        "originalImages = lfw_people.images\n",
        "labels = lfw_people.target\n",
        "\n",
        "new_resolution = (64, 64)  \n",
        "#positive_patches = [resize(img, new_resolution, mode='reflect', anti_aliasing=True) for img in originalImages]\n",
        "positive_patches = lfw_people.images\n",
        "size = positive_patches[0].shape\n",
        "\n",
        "imgs = ['camera',\n",
        "        'text',\n",
        "        'coins',\n",
        "        'moon',\n",
        "        'page',\n",
        "        'clock',\n",
        "        'immunohistochemistry',\n",
        "        'chelsea',\n",
        "        'coffee',\n",
        "        'hubble_deep_field'\n",
        "        ]\n",
        "\n",
        "images = []\n",
        "for name in imgs:\n",
        "    img = getattr(data, name)()\n",
        "    if len(img.shape) == 3 and img.shape[2] == 3:  # Chequeamos si la imagen es RGB\n",
        "        img = color.rgb2gray(img)\n",
        "    images.append(img)\n",
        "\n",
        "    \n",
        "# Función para extraer porciones de una imagen\n",
        "def extract_patches(img, N, scale=1.0, patch_size=size):\n",
        "    # Calcula el tamaño del parche extraído basado en el factor de escala dado\n",
        "    extracted_patch_size = tuple((scale * np.array(patch_size)).astype(int))\n",
        "    \n",
        "    # Inicializa un objeto PatchExtractor con el tamaño de parche calculado,\n",
        "    # el número máximo de parches, y una semilla de estado aleatorio\n",
        "    extractor = PatchExtractor(patch_size=extracted_patch_size, max_patches=N, random_state=0)\n",
        "    \n",
        "    # Extrae parches de la imagen dada\n",
        "    # img[np.newaxis] se utiliza la entrada de PatchExtractor es un conjunto de imágenes\n",
        "    patches = extractor.transform(img[np.newaxis])\n",
        "    \n",
        "    # Si el factor de escala no es 1, redimensiona cada parche extraído\n",
        "    # al tamaño del parche original\n",
        "    if scale != 1:\n",
        "        patches = np.array([resize(patch, patch_size) for patch in patches])\n",
        "    \n",
        "    # Devuelve la lista de parches extraídos (y posiblemente redimensionados)\n",
        "    return patches\n",
        "\n",
        "# Extraemos las imágenes de fondo\n",
        "negative_patches = np.vstack([extract_patches(im, 250, scale) for im in tqdm(images, desc='Procesando imágenes') for scale in [0.5, 0.75, 1.0, 1.5, 2.0]])\n",
        "negative_patches.shape\n",
        "\n",
        "X_train = np.array([feature.hog(im) for im in tqdm(chain(positive_patches, negative_patches), desc='Construyendo X')])\n",
        "y_train = np.zeros(X_train.shape[0])\n",
        "y_train[:positive_patches.shape[0]] = 1\n",
        "\n",
        "\n",
        "\n",
        "\n"
      ]
    },
    {
      "cell_type": "code",
      "execution_count": 7,
      "metadata": {},
      "outputs": [
        {
          "data": {
            "text/plain": [
              "1215"
            ]
          },
          "execution_count": 7,
          "metadata": {},
          "output_type": "execute_result"
        }
      ],
      "source": [
        "# Dividir los datos en conjuntos de entrenamiento y prueba:\n",
        "X_train, X_test, y_train, y_test = train_test_split(X_train, y_train, test_size=0.2, random_state=42)\n"
      ]
    },
    {
      "cell_type": "markdown",
      "metadata": {},
      "source": [
        "##  Gradient Boosting"
      ]
    },
    {
      "cell_type": "code",
      "execution_count": 27,
      "metadata": {},
      "outputs": [
        {
          "name": "stdout",
          "output_type": "stream",
          "text": [
            "Accuracy: 0.9201476588303866\n",
            "Recall: 0.925981308411215\n",
            "True Negative Rate (TNR): 0.9138349514563107\n"
          ]
        }
      ],
      "source": [
        "# HIPERPARAMETROS BAJOS PARA QUE NO TARDE TANTO\n",
        "gb_classifier = GradientBoostingClassifier(n_estimators=5, learning_rate=0.1, random_state=0)\n",
        "gb_classifier.fit(X_train, y_train)\n",
        "\n",
        "y_pred = gb_classifier.predict(X_test)\n",
        "\n",
        "accuracy = accuracy_score(y_test, y_pred)\n",
        "recall = recall_score(y_test, y_pred)\n",
        "conf_matrix = confusion_matrix(y_test, y_pred)\n",
        "tnr = conf_matrix[0, 0] / (conf_matrix[0, 0] + conf_matrix[0, 1])\n",
        "\n",
        "print(f'Accuracy: {accuracy}')\n",
        "print(f'Recall: {recall}')\n",
        "print(f'True Negative Rate (TNR): {tnr}')"
      ]
    },
    {
      "cell_type": "markdown",
      "metadata": {},
      "source": [
        "## Ada-Boost"
      ]
    },
    {
      "cell_type": "code",
      "execution_count": 19,
      "metadata": {},
      "outputs": [
        {
          "name": "stdout",
          "output_type": "stream",
          "text": [
            "Accuracy: 0.8943073635127259\n",
            "Recall: 0.8691588785046729\n",
            "True Negative Rate (TNR): 0.9215210355987055\n"
          ]
        }
      ],
      "source": [
        "# AdaBoost clasifier\n",
        "\n",
        "# Bad clasifier\n",
        "weak_classifier = DecisionTreeClassifier(max_depth=1)\n",
        "# Good clasifier based in the bad one (for better results, increase the number of estimators)\n",
        "adaboost_classifier = AdaBoostClassifier(base_estimator=weak_classifier, n_estimators=5, random_state=0)\n",
        "\n",
        "adaboost_classifier.fit(X_train, y_train)\n",
        "\n",
        "predictions = adaboost_classifier.predict(X_test)\n",
        "\n",
        "# Focus on TNR (predict non-faces correctly)\n",
        "y_pred = adaboost_classifier.predict(X_test)\n",
        "y_true = y_test\n",
        "\n",
        "accuracy = accuracy_score(y_test, predictions)\n",
        "recall = recall_score(y_test, predictions)\n",
        "conf_matrix = confusion_matrix(y_true, y_pred)\n",
        "tn = conf_matrix[0, 0]\n",
        "fp = conf_matrix[0, 1]\n",
        "tnr = tn / (tn + fp)\n",
        "\n",
        "print(f'Accuracy: {accuracy}')\n",
        "print(f'Recall: {recall}')\n",
        "print(f'True Negative Rate (TNR): {tnr}')"
      ]
    },
    {
      "cell_type": "code",
      "execution_count": 20,
      "metadata": {},
      "outputs": [
        {
          "name": "stdout",
          "output_type": "stream",
          "text": [
            "Accuracy: 0.9174276277443171\n",
            "Recall: 0.9151401869158878\n",
            "True Negative Rate (TNR): 0.9199029126213593\n"
          ]
        }
      ],
      "source": [
        "# Added adaboost as a bagging base classifier\n",
        "bagging_classifier = BaggingClassifier(adaboost_classifier, n_estimators=5, random_state=0)\n",
        "\n",
        "bagging_classifier.fit(X_train, y_train)\n",
        "\n",
        "y_pred = bagging_classifier.predict(X_test)\n",
        "y_true = y_test\n",
        "\n",
        "accuracy = accuracy_score(y_test, y_pred)\n",
        "print(f'Accuracy: {accuracy}')\n",
        "\n",
        "conf_matrix = confusion_matrix(y_true, y_pred)\n",
        "tn = conf_matrix[0, 0]\n",
        "fp = conf_matrix[0, 1]\n",
        "tnr = tn / (tn + fp)\n",
        "\n",
        "recall = recall_score(y_true, y_pred)\n",
        "\n",
        "print(f'Recall: {recall}')\n",
        "print(f'True Negative Rate (TNR): {tnr}')"
      ]
    },
    {
      "cell_type": "markdown",
      "metadata": {},
      "source": [
        "## Random Forest"
      ]
    },
    {
      "cell_type": "code",
      "execution_count": null,
      "metadata": {
        "id": "wR5ow9MMtUdK"
      },
      "outputs": [],
      "source": [
        "# Train a random forest classifier and assess its performance\n",
        "clf = RandomForestClassifier(n_estimators=1000, max_depth=None,\n",
        "                             max_features=100, n_jobs=-1, random_state=0)\n",
        "t_start = time()\n",
        "clf.fit(X_train, y_train)\n",
        "time_full_train = time() - t_start\n",
        "auc_full_features = roc_auc_score(y_test, clf.predict_proba(X_test)[:, 1])\n",
        "\n"
      ]
    },
    {
      "cell_type": "markdown",
      "metadata": {},
      "source": [
        "## Regresión Logística"
      ]
    },
    {
      "cell_type": "code",
      "execution_count": null,
      "metadata": {
        "colab": {
          "base_uri": "https://localhost:8080/",
          "height": 910
        },
        "id": "qWK080NEFM_b",
        "outputId": "53f0dfe2-8b70-492d-b903-210f44af62e8"
      },
      "outputs": [
        {
          "name": "stderr",
          "output_type": "stream",
          "text": [
            "c:\\Users\\naist\\AppData\\Local\\Programs\\Python\\Python311\\Lib\\site-packages\\sklearn\\linear_model\\_logistic.py:460: ConvergenceWarning: lbfgs failed to converge (status=1):\n",
            "STOP: TOTAL NO. of ITERATIONS REACHED LIMIT.\n",
            "\n",
            "Increase the number of iterations (max_iter) or scale the data as shown in:\n",
            "    https://scikit-learn.org/stable/modules/preprocessing.html\n",
            "Please also refer to the documentation for alternative solver options:\n",
            "    https://scikit-learn.org/stable/modules/linear_model.html#logistic-regression\n",
            "  n_iter_i = _check_optimize_result(\n",
            "c:\\Users\\naist\\AppData\\Local\\Programs\\Python\\Python311\\Lib\\site-packages\\sklearn\\linear_model\\_logistic.py:460: ConvergenceWarning: lbfgs failed to converge (status=1):\n",
            "STOP: TOTAL NO. of ITERATIONS REACHED LIMIT.\n",
            "\n",
            "Increase the number of iterations (max_iter) or scale the data as shown in:\n",
            "    https://scikit-learn.org/stable/modules/preprocessing.html\n",
            "Please also refer to the documentation for alternative solver options:\n",
            "    https://scikit-learn.org/stable/modules/linear_model.html#logistic-regression\n",
            "  n_iter_i = _check_optimize_result(\n",
            "c:\\Users\\naist\\AppData\\Local\\Programs\\Python\\Python311\\Lib\\site-packages\\sklearn\\linear_model\\_logistic.py:460: ConvergenceWarning: lbfgs failed to converge (status=1):\n",
            "STOP: TOTAL NO. of ITERATIONS REACHED LIMIT.\n",
            "\n",
            "Increase the number of iterations (max_iter) or scale the data as shown in:\n",
            "    https://scikit-learn.org/stable/modules/preprocessing.html\n",
            "Please also refer to the documentation for alternative solver options:\n",
            "    https://scikit-learn.org/stable/modules/linear_model.html#logistic-regression\n",
            "  n_iter_i = _check_optimize_result(\n",
            "c:\\Users\\naist\\AppData\\Local\\Programs\\Python\\Python311\\Lib\\site-packages\\sklearn\\linear_model\\_logistic.py:460: ConvergenceWarning: lbfgs failed to converge (status=1):\n",
            "STOP: TOTAL NO. of ITERATIONS REACHED LIMIT.\n",
            "\n",
            "Increase the number of iterations (max_iter) or scale the data as shown in:\n",
            "    https://scikit-learn.org/stable/modules/preprocessing.html\n",
            "Please also refer to the documentation for alternative solver options:\n",
            "    https://scikit-learn.org/stable/modules/linear_model.html#logistic-regression\n",
            "  n_iter_i = _check_optimize_result(\n",
            "c:\\Users\\naist\\AppData\\Local\\Programs\\Python\\Python311\\Lib\\site-packages\\sklearn\\linear_model\\_logistic.py:460: ConvergenceWarning: lbfgs failed to converge (status=1):\n",
            "STOP: TOTAL NO. of ITERATIONS REACHED LIMIT.\n",
            "\n",
            "Increase the number of iterations (max_iter) or scale the data as shown in:\n",
            "    https://scikit-learn.org/stable/modules/preprocessing.html\n",
            "Please also refer to the documentation for alternative solver options:\n",
            "    https://scikit-learn.org/stable/modules/linear_model.html#logistic-regression\n",
            "  n_iter_i = _check_optimize_result(\n"
          ]
        },
        {
          "data": {
            "image/png": "[encoded data removed]",
            "text/plain": [
              "<Figure size 640x480 with 1 Axes>"
            ]
          },
          "metadata": {},
          "output_type": "display_data"
        }
      ],
      "source": [
        "\n",
        "\n",
        "clf = LogisticRegression(max_iter=500)\n",
        "train_sizes, train_scores, test_scores = learning_curve(clf, X_train, y_train, cv=5)\n",
        "\n",
        "plt.figure()\n",
        "plt.plot(train_sizes, train_scores.mean(axis=1), 'o-', label=\"Training score\")\n",
        "plt.plot(train_sizes, test_scores.mean(axis=1), 'o-', label=\"Cross-validation score\")\n",
        "plt.xlabel(\"Training examples\")\n",
        "plt.ylabel(\"Score\")\n",
        "plt.title(\"Learning Curve\")\n",
        "plt.legend(loc=\"best\")\n",
        "plt.show()"
      ]
    },
    {
      "cell_type": "markdown",
      "metadata": {},
      "source": [
        "## Red Neuronal"
      ]
    },
    {
      "cell_type": "code",
      "execution_count": 103,
      "metadata": {},
      "outputs": [
        {
          "name": "stdout",
          "output_type": "stream",
          "text": [
            "INFO:tensorflow:Assets written to: RedNeuronal_Relu_Relu_Sig_12_8_1\\assets\n"
          ]
        },
        {
          "name": "stderr",
          "output_type": "stream",
          "text": [
            "INFO:tensorflow:Assets written to: RedNeuronal_Relu_Relu_Sig_12_8_1\\assets\n"
          ]
        },
        {
          "name": "stdout",
          "output_type": "stream",
          "text": [
            "INFO:tensorflow:Assets written to: RedNeuronal_Relu_Relu_Sig_12_8_1\\assets\n"
          ]
        },
        {
          "name": "stderr",
          "output_type": "stream",
          "text": [
            "INFO:tensorflow:Assets written to: RedNeuronal_Relu_Relu_Sig_12_8_1\\assets\n"
          ]
        },
        {
          "name": "stdout",
          "output_type": "stream",
          "text": [
            "INFO:tensorflow:Assets written to: RedNeuronal_Relu_Relu_Sig_12_8_1\\assets\n"
          ]
        },
        {
          "name": "stderr",
          "output_type": "stream",
          "text": [
            "INFO:tensorflow:Assets written to: RedNeuronal_Relu_Relu_Sig_12_8_1\\assets\n"
          ]
        },
        {
          "name": "stdout",
          "output_type": "stream",
          "text": [
            "INFO:tensorflow:Assets written to: RedNeuronal_Relu_Relu_Sig_12_8_1\\assets\n"
          ]
        },
        {
          "name": "stderr",
          "output_type": "stream",
          "text": [
            "INFO:tensorflow:Assets written to: RedNeuronal_Relu_Relu_Sig_12_8_1\\assets\n"
          ]
        },
        {
          "name": "stdout",
          "output_type": "stream",
          "text": [
            "INFO:tensorflow:Assets written to: RedNeuronal_Relu_Relu_Sig_12_8_1\\assets\n"
          ]
        },
        {
          "name": "stderr",
          "output_type": "stream",
          "text": [
            "INFO:tensorflow:Assets written to: RedNeuronal_Relu_Relu_Sig_12_8_1\\assets\n"
          ]
        },
        {
          "name": "stdout",
          "output_type": "stream",
          "text": [
            "INFO:tensorflow:Assets written to: RedNeuronal_Relu_Relu_Sig_12_8_1\\assets\n"
          ]
        },
        {
          "name": "stderr",
          "output_type": "stream",
          "text": [
            "INFO:tensorflow:Assets written to: RedNeuronal_Relu_Relu_Sig_12_8_1\\assets\n"
          ]
        },
        {
          "name": "stdout",
          "output_type": "stream",
          "text": [
            "INFO:tensorflow:Assets written to: RedNeuronal_Relu_Relu_Sig_12_8_1\\assets\n"
          ]
        },
        {
          "name": "stderr",
          "output_type": "stream",
          "text": [
            "INFO:tensorflow:Assets written to: RedNeuronal_Relu_Relu_Sig_12_8_1\\assets\n"
          ]
        },
        {
          "name": "stdout",
          "output_type": "stream",
          "text": [
            "INFO:tensorflow:Assets written to: RedNeuronal_Relu_Relu_Sig_12_8_1\\assets\n"
          ]
        },
        {
          "name": "stderr",
          "output_type": "stream",
          "text": [
            "INFO:tensorflow:Assets written to: RedNeuronal_Relu_Relu_Sig_12_8_1\\assets\n"
          ]
        },
        {
          "name": "stdout",
          "output_type": "stream",
          "text": [
            "INFO:tensorflow:Assets written to: RedNeuronal_Relu_Relu_Sig_12_8_1\\assets\n"
          ]
        },
        {
          "name": "stderr",
          "output_type": "stream",
          "text": [
            "INFO:tensorflow:Assets written to: RedNeuronal_Relu_Relu_Sig_12_8_1\\assets\n"
          ]
        },
        {
          "name": "stdout",
          "output_type": "stream",
          "text": [
            "INFO:tensorflow:Assets written to: RedNeuronal_Relu_Relu_Sig_12_8_1\\assets\n"
          ]
        },
        {
          "name": "stderr",
          "output_type": "stream",
          "text": [
            "INFO:tensorflow:Assets written to: RedNeuronal_Relu_Relu_Sig_12_8_1\\assets\n"
          ]
        },
        {
          "name": "stdout",
          "output_type": "stream",
          "text": [
            "INFO:tensorflow:Assets written to: RedNeuronal_Relu_Relu_Sig_12_8_1\\assets\n"
          ]
        },
        {
          "name": "stderr",
          "output_type": "stream",
          "text": [
            "INFO:tensorflow:Assets written to: RedNeuronal_Relu_Relu_Sig_12_8_1\\assets\n"
          ]
        },
        {
          "name": "stdout",
          "output_type": "stream",
          "text": [
            "INFO:tensorflow:Assets written to: RedNeuronal_Relu_Relu_Sig_12_8_1\\assets\n"
          ]
        },
        {
          "name": "stderr",
          "output_type": "stream",
          "text": [
            "INFO:tensorflow:Assets written to: RedNeuronal_Relu_Relu_Sig_12_8_1\\assets\n"
          ]
        },
        {
          "name": "stdout",
          "output_type": "stream",
          "text": [
            "INFO:tensorflow:Assets written to: RedNeuronal_Relu_Relu_Sig_12_8_1\\assets\n"
          ]
        },
        {
          "name": "stderr",
          "output_type": "stream",
          "text": [
            "INFO:tensorflow:Assets written to: RedNeuronal_Relu_Relu_Sig_12_8_1\\assets\n"
          ]
        },
        {
          "name": "stdout",
          "output_type": "stream",
          "text": [
            "INFO:tensorflow:Assets written to: RedNeuronal_Relu_Relu_Sig_12_8_1\\assets\n"
          ]
        },
        {
          "name": "stderr",
          "output_type": "stream",
          "text": [
            "INFO:tensorflow:Assets written to: RedNeuronal_Relu_Relu_Sig_12_8_1\\assets\n"
          ]
        },
        {
          "name": "stdout",
          "output_type": "stream",
          "text": [
            "INFO:tensorflow:Assets written to: RedNeuronal_Relu_Relu_Sig_12_8_1\\assets\n"
          ]
        },
        {
          "name": "stderr",
          "output_type": "stream",
          "text": [
            "INFO:tensorflow:Assets written to: RedNeuronal_Relu_Relu_Sig_12_8_1\\assets\n"
          ]
        },
        {
          "name": "stdout",
          "output_type": "stream",
          "text": [
            "INFO:tensorflow:Assets written to: RedNeuronal_Relu_Relu_Sig_12_8_1\\assets\n"
          ]
        },
        {
          "name": "stderr",
          "output_type": "stream",
          "text": [
            "INFO:tensorflow:Assets written to: RedNeuronal_Relu_Relu_Sig_12_8_1\\assets\n"
          ]
        },
        {
          "name": "stdout",
          "output_type": "stream",
          "text": [
            "INFO:tensorflow:Assets written to: RedNeuronal_Relu_Relu_Sig_12_8_1\\assets\n"
          ]
        },
        {
          "name": "stderr",
          "output_type": "stream",
          "text": [
            "INFO:tensorflow:Assets written to: RedNeuronal_Relu_Relu_Sig_12_8_1\\assets\n"
          ]
        },
        {
          "name": "stdout",
          "output_type": "stream",
          "text": [
            "INFO:tensorflow:Assets written to: RedNeuronal_Relu_Relu_Sig_12_8_1\\assets\n"
          ]
        },
        {
          "name": "stderr",
          "output_type": "stream",
          "text": [
            "INFO:tensorflow:Assets written to: RedNeuronal_Relu_Relu_Sig_12_8_1\\assets\n"
          ]
        },
        {
          "name": "stdout",
          "output_type": "stream",
          "text": [
            "INFO:tensorflow:Assets written to: RedNeuronal_Relu_Relu_Sig_12_8_1\\assets\n"
          ]
        },
        {
          "name": "stderr",
          "output_type": "stream",
          "text": [
            "INFO:tensorflow:Assets written to: RedNeuronal_Relu_Relu_Sig_12_8_1\\assets\n"
          ]
        },
        {
          "name": "stdout",
          "output_type": "stream",
          "text": [
            "INFO:tensorflow:Assets written to: RedNeuronal_Relu_Relu_Sig_12_8_1\\assets\n"
          ]
        },
        {
          "name": "stderr",
          "output_type": "stream",
          "text": [
            "INFO:tensorflow:Assets written to: RedNeuronal_Relu_Relu_Sig_12_8_1\\assets\n"
          ]
        },
        {
          "name": "stdout",
          "output_type": "stream",
          "text": [
            "INFO:tensorflow:Assets written to: RedNeuronal_Relu_Relu_Sig_12_8_1\\assets\n"
          ]
        },
        {
          "name": "stderr",
          "output_type": "stream",
          "text": [
            "INFO:tensorflow:Assets written to: RedNeuronal_Relu_Relu_Sig_12_8_1\\assets\n"
          ]
        },
        {
          "name": "stdout",
          "output_type": "stream",
          "text": [
            "INFO:tensorflow:Assets written to: RedNeuronal_Relu_Relu_Sig_12_8_1\\assets\n"
          ]
        },
        {
          "name": "stderr",
          "output_type": "stream",
          "text": [
            "INFO:tensorflow:Assets written to: RedNeuronal_Relu_Relu_Sig_12_8_1\\assets\n"
          ]
        },
        {
          "name": "stdout",
          "output_type": "stream",
          "text": [
            "INFO:tensorflow:Assets written to: RedNeuronal_Relu_Relu_Sig_12_8_1\\assets\n"
          ]
        },
        {
          "name": "stderr",
          "output_type": "stream",
          "text": [
            "INFO:tensorflow:Assets written to: RedNeuronal_Relu_Relu_Sig_12_8_1\\assets\n"
          ]
        },
        {
          "name": "stdout",
          "output_type": "stream",
          "text": [
            "INFO:tensorflow:Assets written to: RedNeuronal_Relu_Relu_Sig_12_8_1\\assets\n"
          ]
        },
        {
          "name": "stderr",
          "output_type": "stream",
          "text": [
            "INFO:tensorflow:Assets written to: RedNeuronal_Relu_Relu_Sig_12_8_1\\assets\n"
          ]
        },
        {
          "name": "stdout",
          "output_type": "stream",
          "text": [
            "INFO:tensorflow:Assets written to: RedNeuronal_Relu_Relu_Sig_12_8_1\\assets\n"
          ]
        },
        {
          "name": "stderr",
          "output_type": "stream",
          "text": [
            "INFO:tensorflow:Assets written to: RedNeuronal_Relu_Relu_Sig_12_8_1\\assets\n"
          ]
        },
        {
          "name": "stdout",
          "output_type": "stream",
          "text": [
            "INFO:tensorflow:Assets written to: RedNeuronal_Relu_Relu_Sig_12_8_1\\assets\n"
          ]
        },
        {
          "name": "stderr",
          "output_type": "stream",
          "text": [
            "INFO:tensorflow:Assets written to: RedNeuronal_Relu_Relu_Sig_12_8_1\\assets\n"
          ]
        },
        {
          "data": {
            "image/png": "[encoded data removed]",
            "text/plain": [
              "<Figure size 640x480 with 1 Axes>"
            ]
          },
          "metadata": {},
          "output_type": "display_data"
        },
        {
          "name": "stdout",
          "output_type": "stream",
          "text": [
            "Recall: 0.9875419262098706\n",
            "True Negative Rate (TNR): 0.9931068439192516\n"
          ]
        }
      ],
      "source": [
        "from tensorflow.keras.models import Sequential\n",
        "from tensorflow.keras.layers import Activation, Dense, Dropout\n",
        "from scikeras.wrappers import KerasClassifier\n",
        "from sklearn.model_selection import StratifiedKFold\n",
        "from sklearn.model_selection import cross_val_score\n",
        "import numpy as np\n",
        "import datetime\n",
        " \n",
        "#Crear red neuronal\n",
        "def create_model():\n",
        "\n",
        " model = Sequential()\n",
        " model.add(Dense(12, input_dim=X_train.shape[1], activation='relu'))\n",
        " model.add(Dropout(0.5))\n",
        " model.add(Dense(8, activation='relu'))\n",
        " model.add(Dropout(0.5))\n",
        " model.add(Dense(1, activation='sigmoid'))\n",
        "\n",
        " sgd = SGD(learning_rate=0.05, momentum=0.8)\n",
        " model.compile(loss='binary_crossentropy', optimizer=sgd, metrics=['accuracy'])\n",
        " model.save(\"RedNeuronal_Relu_Relu_Sig_12_8_1\")\n",
        " return model\n",
        " \n",
        "# Seed para poder reproducir el modelo\n",
        "seed = 7\n",
        "np.random.seed(seed)\n",
        "\n",
        "\n",
        "model = KerasClassifier(model=create_model, epochs=150, batch_size=128, verbose=0)\n",
        "\n",
        "kfold = StratifiedKFold(n_splits=10, shuffle=True, random_state=seed)\n",
        "\n",
        "import tensorflow.keras as keras\n",
        "import numpy as np\n",
        "from tensorflow.keras.models import Sequential\n",
        "from tensorflow.keras.layers import Activation, Dense\n",
        "from tensorflow.keras.optimizers import SGD, Adam\n",
        "from tensorflow.random import set_seed\n",
        "import datetime\n",
        "set_seed(1)\n",
        "logdir = \"logs/neuralNetwork/\" + datetime.datetime.now().strftime(\"%Y%m%d-%H%M%S\")\n",
        "callbacks = [keras.callbacks.TensorBoard(log_dir=logdir), \n",
        "             keras.callbacks.EarlyStopping(patience=10, restore_best_weights=True)]\n",
        "\n",
        "\n",
        "#Entrenamiento\n",
        "model.fit(X_train, y_train, validation_data=(X_test, y_test), batch_size=128, epochs=150, callbacks=callbacks)\n",
        "\n",
        "y_pred = model.predict(X_test)\n",
        "\n",
        "\n",
        "#Predicciones\n",
        "train_sizes, train_scores, test_scores = learning_curve(model, X_test, y_pred, cv=5)\n",
        "\n",
        "#Visualizar resultados\n",
        "plt.figure()\n",
        "plt.plot(train_sizes, train_scores.mean(axis=1), 'o-', label=\"Training score\")\n",
        "plt.plot(train_sizes, test_scores.mean(axis=1), 'o-', label=\"Cross-validation score\")\n",
        "plt.xlabel(\"Training examples\")\n",
        "plt.ylabel(\"Score\")\n",
        "plt.title(\"Learning Curve\")\n",
        "plt.legend(loc=\"best\")\n",
        "plt.show()\n",
        "\n",
        "conf_matrix = confusion_matrix(y_test, y_pred)\n",
        "tn = conf_matrix[0, 0]\n",
        "fp = conf_matrix[0, 1]\n",
        "tnr = tn / (tn + fp)\n",
        "\n",
        "recall = recall_score(y_test, y_pred)\n",
        "\n",
        "print(f'Recall: {recall}')\n",
        "print(f'True Negative Rate (TNR): {tnr}')\n"
      ]
    },
    {
      "cell_type": "code",
      "execution_count": 105,
      "metadata": {},
      "outputs": [
        {
          "data": {
            "text/plain": [
              "array([[2017,   14],\n",
              "       [  26, 2061]], dtype=int64)"
            ]
          },
          "execution_count": 105,
          "metadata": {},
          "output_type": "execute_result"
        }
      ],
      "source": [
        "conf_matrix = confusion_matrix(y_test, y_pred)\n",
        "conf_matrix\n"
      ]
    },
    {
      "cell_type": "code",
      "execution_count": null,
      "metadata": {
        "colab": {
          "base_uri": "https://localhost:8080/",
          "height": 454
        },
        "id": "8OMpW6Y6347t",
        "outputId": "db53a7bb-c925-4777-e6a9-e4beafb08288"
      },
      "outputs": [
        {
          "data": {
            "image/png": "[encoded data removed]",
            "text/plain": [
              "<Figure size 640x480 with 6 Axes>"
            ]
          },
          "metadata": {},
          "output_type": "display_data"
        }
      ],
      "source": [
        "\n",
        "idx_sorted = np.argsort(clf.feature_importances_)[::-1]\n",
        "\n",
        "fig, axes = plt.subplots(3, 2)\n",
        "for idx, ax in enumerate(axes.ravel()):\n",
        "    image = images[0]\n",
        "    image = draw_haar_like_feature(image, 0, 0,\n",
        "                                   images.shape[2],\n",
        "                                   images.shape[1],\n",
        "                                   [feature_coord[idx_sorted[idx]]])\n",
        "    ax.imshow(image)\n",
        "    ax.set_xticks([])\n",
        "    ax.set_yticks([])\n",
        "    _ = fig.suptitle('The most important features')\n",
        "\n",
        "\n"
      ]
    }
  ],
  "metadata": {
    "colab": {
      "provenance": []
    },
    "kernelspec": {
      "display_name": "Python 3",
      "name": "python3"
    },
    "language_info": {
      "codemirror_mode": {
        "name": "ipython",
        "version": 3
      },
      "file_extension": ".py",
      "mimetype": "text/x-python",
      "name": "python",
      "nbconvert_exporter": "python",
      "pygments_lexer": "ipython3",
      "version": "3.10.11"
    }
  },
  "nbformat": 4,
  "nbformat_minor": 0
}
