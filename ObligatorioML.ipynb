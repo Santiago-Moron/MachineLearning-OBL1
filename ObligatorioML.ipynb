{
  "nbformat": 4,
  "nbformat_minor": 0,
  "metadata": {
    "colab": {
      "provenance": []
    },
    "kernelspec": {
      "name": "python3",
      "display_name": "Python 3"
    },
    "language_info": {
      "name": "python"
    }
  },
  "cells": [
    {
      "cell_type": "code",
      "execution_count": null,
      "metadata": {
        "id": "8uiuNIbDf3p6"
      },
      "outputs": [],
      "source": [
        "import os\n",
        "import numpy as np\n",
        "import matplotlib.pyplot as plt\n",
        "from skimage import color, feature\n",
        "from skimage.transform import rescale, resize, rotate\n",
        "from skimage.transform import integral_image\n",
        "from skimage.feature import haar_like_feature\n",
        "from skimage.feature import haar_like_feature_coord\n",
        "from skimage.feature import draw_haar_like_feature\n",
        "from skimage.exposure import equalize_hist"
      ]
    },
    {
      "cell_type": "code",
      "source": [
        "filename = 'solo_manzana.jpg'\n",
        "with open(filename, 'rb') as jpg:\n",
        "    image_rgb = plt.imread(jpg)\n"
      ],
      "metadata": {
        "id": "m-HkhAlTwCLL"
      },
      "execution_count": null,
      "outputs": []
    },
    {
      "cell_type": "code",
      "source": [
        "image_gray = color.rgb2gray(image_rgb)\n",
        "resized_image = resize(image=image_gray, output_shape=(128,64))"
      ],
      "metadata": {
        "id": "p8eJ_J7twLHn"
      },
      "execution_count": null,
      "outputs": []
    },
    {
      "cell_type": "code",
      "source": [
        "xLength, yLength = 64, 128\n",
        "Integer_image = [[0 for x in range(xLength)] for y in range(yLength)]\n",
        "for i in range(xLength):\n",
        "    Integer_image[0][i] = resized_image[0][i]\n",
        "\n",
        "for j in range(yLength):\n",
        "    Integer_image[j][0] = resized_image[j][0]\n",
        "\n",
        "x = 1\n",
        "while x < xLength:\n",
        "  y = 1\n",
        "  while y < yLength:\n",
        "    Integer_image[y][x] = Integer_image[y][x-1] + Integer_image[y-1][x] - Integer_image[y-1][x-1]\n",
        "    y += 1\n",
        "  x += 1\n"
      ],
      "metadata": {
        "id": "hXvy8s1wwLkg"
      },
      "execution_count": null,
      "outputs": []
    },
    {
      "cell_type": "code",
      "source": [
        "haar_size = 4\n",
        "maxValue = 0\n",
        "#Haar feature: Two Squares. White-Black\n",
        "for x in range(xLength-haar_size):\n",
        "  for y in range(yLength-haar_size):\n",
        "    blackSquare = Integer_image[y+haar_size][x+haar_size] - Integer_image[y+haar_size][x+(haar_size//2)]\n",
        "    whiteSquare = Integer_image[y+haar_size][x+(haar_size//2)] - Integer_image[y+haar_size][x]\n",
        "    feature = blackSquare-whiteSquare\n",
        "    if maxValue < abs(feature):\n",
        "      maxValue = feature\n",
        "\n",
        "feature"
      ],
      "metadata": {
        "colab": {
          "base_uri": "https://localhost:8080/"
        },
        "id": "yR87fX-A3nf1",
        "outputId": "91494257-4a52-43d9-c85b-5b83d587ef88"
      },
      "execution_count": null,
      "outputs": [
        {
          "output_type": "execute_result",
          "data": {
            "text/plain": [
              "-0.004049520306512844"
            ]
          },
          "metadata": {},
          "execution_count": 68
        }
      ]
    },
    {
      "cell_type": "code",
      "source": [],
      "metadata": {
        "id": "wj17uRzh355Q"
      },
      "execution_count": null,
      "outputs": []
    }
  ]
}